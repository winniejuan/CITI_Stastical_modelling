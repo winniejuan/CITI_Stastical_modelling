{
  "nbformat": 4,
  "nbformat_minor": 0,
  "metadata": {
    "colab": {
      "provenance": [],
      "authorship_tag": "ABX9TyO73Bmh2URu4SZxrokEj6Hv",
      "include_colab_link": true
    },
    "kernelspec": {
      "name": "python3",
      "display_name": "Python 3"
    },
    "language_info": {
      "name": "python"
    }
  },
  "cells": [
    {
      "cell_type": "markdown",
      "metadata": {
        "id": "view-in-github",
        "colab_type": "text"
      },
      "source": [
        "<a href=\"https://colab.research.google.com/github/winniejuan/CITI_Stastical_modelling/blob/main/Python_programming2.ipynb\" target=\"_parent\"><img src=\"https://colab.research.google.com/assets/colab-badge.svg\" alt=\"Open In Colab\"/></a>"
      ]
    },
    {
      "cell_type": "markdown",
      "source": [
        "Part 2"
      ],
      "metadata": {
        "id": "OJ8fLLn8TZVy"
      }
    },
    {
      "cell_type": "code",
      "execution_count": 1,
      "metadata": {
        "colab": {
          "base_uri": "https://localhost:8080/"
        },
        "id": "Sg08nVfDTTq0",
        "outputId": "df6f6c18-b800-42a2-bfa6-f0d659bd58b3"
      },
      "outputs": [
        {
          "output_type": "stream",
          "name": "stdout",
          "text": [
            "apples\n",
            "banana\n",
            "cherry\n"
          ]
        }
      ],
      "source": [
        "# list of fruits\n",
        "fruits= [\"apples\" ,\"banana\" , \"cherry\"]\n",
        "for fruit in fruits:\n",
        "  print (fruit)"
      ]
    },
    {
      "cell_type": "code",
      "source": [
        "# for loop sequence\n",
        "numbers=[2,4,6]\n",
        "for number in numbers:\n",
        "  number=number+2\n",
        "  print(number)\n",
        ""
      ],
      "metadata": {
        "colab": {
          "base_uri": "https://localhost:8080/"
        },
        "id": "1nuAqmAMU8Sv",
        "outputId": "4a995e4b-34b5-4bf2-a831-ea3076168a36"
      },
      "execution_count": 2,
      "outputs": [
        {
          "output_type": "stream",
          "name": "stdout",
          "text": [
            "4\n",
            "6\n",
            "8\n"
          ]
        }
      ]
    },
    {
      "cell_type": "code",
      "source": [
        "# while loop\n",
        "count=0\n",
        "while count<5:\n",
        "  print(\"count\" ,count)\n",
        "  count =count+1"
      ],
      "metadata": {
        "colab": {
          "base_uri": "https://localhost:8080/"
        },
        "id": "6YC2MGr8XK50",
        "outputId": "861bdae0-6248-4633-c97f-8ac0c38749cd"
      },
      "execution_count": 3,
      "outputs": [
        {
          "output_type": "stream",
          "name": "stdout",
          "text": [
            "count 0\n",
            "count 1\n",
            "count 2\n",
            "count 3\n",
            "count 4\n"
          ]
        }
      ]
    },
    {
      "cell_type": "code",
      "source": [
        "# functions\n",
        "def greet():\n",
        "  print (\"Hello Winnie\")"
      ],
      "metadata": {
        "id": "cx5m0ny6TpPn"
      },
      "execution_count": 4,
      "outputs": []
    },
    {
      "cell_type": "code",
      "source": [
        "# greet function\n",
        "greet ()"
      ],
      "metadata": {
        "colab": {
          "base_uri": "https://localhost:8080/"
        },
        "id": "reKBnuZlZ2in",
        "outputId": "a7d58e5c-964b-46cd-d6ed-0355fd84974b"
      },
      "execution_count": 5,
      "outputs": [
        {
          "output_type": "stream",
          "name": "stdout",
          "text": [
            "Hello Winnie\n"
          ]
        }
      ]
    },
    {
      "cell_type": "code",
      "source": [
        "# name\n",
        "def greet(name):\n",
        "  print('Hello,', name )"
      ],
      "metadata": {
        "id": "Dq99FLPaadMQ"
      },
      "execution_count": 7,
      "outputs": []
    },
    {
      "cell_type": "code",
      "source": [
        "# print name\n",
        "greet(\"Winnie\")"
      ],
      "metadata": {
        "colab": {
          "base_uri": "https://localhost:8080/"
        },
        "id": "c6GpbcRJbXpM",
        "outputId": "5a4fa3f3-f1b8-46e8-de72-1d4bd3272936"
      },
      "execution_count": 8,
      "outputs": [
        {
          "output_type": "stream",
          "name": "stdout",
          "text": [
            "Hello, Winnie\n"
          ]
        }
      ]
    },
    {
      "cell_type": "code",
      "source": [
        "# adding functions\n",
        "def add (a,b):\n",
        "  return a+b\n",
        "\n",
        "result=add(2,3)\n",
        "print(result)\n",
        "\n"
      ],
      "metadata": {
        "colab": {
          "base_uri": "https://localhost:8080/"
        },
        "id": "Bm3gAtLhcNnn",
        "outputId": "cf134ec9-6ed2-434f-da7b-f02cb0a527b4"
      },
      "execution_count": 9,
      "outputs": [
        {
          "output_type": "stream",
          "name": "stdout",
          "text": [
            "5\n"
          ]
        }
      ]
    },
    {
      "cell_type": "code",
      "source": [
        "# modified\n",
        "def add (a,b):\n",
        "  print (a+b )\n",
        "\n",
        "add(2,3)"
      ],
      "metadata": {
        "colab": {
          "base_uri": "https://localhost:8080/"
        },
        "id": "fkwfRfvSdB5E",
        "outputId": "23a0399d-8410-404c-90f2-999a44e5249e"
      },
      "execution_count": 12,
      "outputs": [
        {
          "output_type": "stream",
          "name": "stdout",
          "text": [
            "5\n"
          ]
        }
      ]
    }
  ]
}