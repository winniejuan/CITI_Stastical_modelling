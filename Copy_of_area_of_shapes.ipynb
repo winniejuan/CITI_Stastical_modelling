{
  "nbformat": 4,
  "nbformat_minor": 0,
  "metadata": {
    "colab": {
      "provenance": [],
      "authorship_tag": "ABX9TyMlmqYybvpX+zs0C5nrZOH6",
      "include_colab_link": true
    },
    "kernelspec": {
      "name": "python3",
      "display_name": "Python 3"
    },
    "language_info": {
      "name": "python"
    }
  },
  "cells": [
    {
      "cell_type": "markdown",
      "metadata": {
        "id": "view-in-github",
        "colab_type": "text"
      },
      "source": [
        "<a href=\"https://colab.research.google.com/github/winniejuan/CITI_Stastical_modelling/blob/main/Copy_of_area_of_shapes.ipynb\" target=\"_parent\"><img src=\"https://colab.research.google.com/assets/colab-badge.svg\" alt=\"Open In Colab\"/></a>"
      ]
    },
    {
      "cell_type": "code",
      "execution_count": 64,
      "metadata": {
        "id": "tuzrK790m4Sj"
      },
      "outputs": [],
      "source": [
        "# showing area of different shapes\n",
        "def circle(radius):\n",
        "  return 3.14*radius*radius\n",
        "\n",
        "  result=circle(radius)\n",
        "  print(result)\n",
        "\n",
        "\n"
      ]
    },
    {
      "cell_type": "code",
      "source": [
        "# showing rectangle\n",
        "def rectangle(length,width):\n",
        "  return length*width\n",
        "\n",
        "  result=rectangle(length,width)\n",
        "  print(result)\n",
        "\n",
        ""
      ],
      "metadata": {
        "id": "2egFjDFqodPN"
      },
      "execution_count": 63,
      "outputs": []
    },
    {
      "cell_type": "code",
      "source": [
        "# showing square\n",
        "def square(side):\n",
        "  return side*side\n",
        "\n",
        "  result=square(side)\n",
        "  print(result)\n",
        "\n",
        ""
      ],
      "metadata": {
        "id": "4k4ob1eGo_SC"
      },
      "execution_count": 66,
      "outputs": []
    },
    {
      "cell_type": "code",
      "source": [
        "# showing area of shapes\n",
        "shape=input(\"enter the shape name\")\n",
        "area=circle\n",
        "radius=float(input(\"enter the radius\"))\n",
        "if shape == circle:\n",
        "  print(\"The area of the circle is:\" ,circle)\n",
        "length=float(input(\"enter the length\"))\n",
        "width=float(input(\"enter the width\"))\n",
        "elif\n",
        "  print (\"The area of the rectangle is:\", rectangle)\n",
        "  side=float(input(\"enter the side\"))\n",
        "  else:\n",
        "  print(\"The area of the sqaure is:\", square)\n"
      ],
      "metadata": {
        "colab": {
          "base_uri": "https://localhost:8080/",
          "height": 130
        },
        "id": "7lCsxeCwoGcY",
        "outputId": "1abf06e1-964c-4b1e-8142-ef4c73153d87"
      },
      "execution_count": 70,
      "outputs": [
        {
          "output_type": "error",
          "ename": "SyntaxError",
          "evalue": "ignored",
          "traceback": [
            "\u001b[0;36m  File \u001b[0;32m\"<ipython-input-70-1eabc0579c0b>\"\u001b[0;36m, line \u001b[0;32m9\u001b[0m\n\u001b[0;31m    elif\u001b[0m\n\u001b[0m    ^\u001b[0m\n\u001b[0;31mSyntaxError\u001b[0m\u001b[0;31m:\u001b[0m invalid syntax\n"
          ]
        }
      ]
    }
  ]
}