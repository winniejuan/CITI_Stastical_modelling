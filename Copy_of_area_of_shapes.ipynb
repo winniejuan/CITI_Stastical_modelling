{
  "nbformat": 4,
  "nbformat_minor": 0,
  "metadata": {
    "colab": {
      "provenance": [],
      "authorship_tag": "ABX9TyPM3s9waKXsYR1CeLgg0pXi",
      "include_colab_link": true
    },
    "kernelspec": {
      "name": "python3",
      "display_name": "Python 3"
    },
    "language_info": {
      "name": "python"
    }
  },
  "cells": [
    {
      "cell_type": "markdown",
      "metadata": {
        "id": "view-in-github",
        "colab_type": "text"
      },
      "source": [
        "<a href=\"https://colab.research.google.com/github/winniejuan/CITI_Stastical_modelling/blob/main/Copy_of_area_of_shapes.ipynb\" target=\"_parent\"><img src=\"https://colab.research.google.com/assets/colab-badge.svg\" alt=\"Open In Colab\"/></a>"
      ]
    },
    {
      "cell_type": "code",
      "execution_count": null,
      "metadata": {
        "id": "tuzrK790m4Sj"
      },
      "outputs": [],
      "source": [
        "# showing area of different shapes\n",
        "def circle(radius):\n",
        "  return(3.14*radius*radius)\n",
        "\n",
        "  radius=float(input(\"enter the radius\"))\n",
        "\n"
      ]
    },
    {
      "cell_type": "code",
      "source": [
        "# showing rectangle\n",
        "def rectangle(length,width):\n",
        "  return(length*width)\n",
        "\n",
        "  length=float(input(\"enter the length\"))\n",
        "  width=float(input(\"enter the width\"))"
      ],
      "metadata": {
        "id": "2egFjDFqodPN"
      },
      "execution_count": null,
      "outputs": []
    },
    {
      "cell_type": "markdown",
      "source": [],
      "metadata": {
        "id": "XLU4VDvuF3mx"
      }
    },
    {
      "cell_type": "code",
      "source": [
        "# name of shape\n",
        "def tag ():\n",
        "  print (tag)\n",
        "  tag = float(input(\" enter the shape name\"))"
      ],
      "metadata": {
        "id": "B-iReSKqFgub"
      },
      "execution_count": null,
      "outputs": []
    },
    {
      "cell_type": "code",
      "source": [
        "# showing square\n",
        "def square(side):\n",
        "  return(side*side)\n",
        "\n",
        "  side=float(input(\"enter the side measurement\"))\n",
        "\n",
        "\n"
      ],
      "metadata": {
        "id": "4k4ob1eGo_SC"
      },
      "execution_count": null,
      "outputs": []
    },
    {
      "cell_type": "code",
      "source": [
        "# showing area of shapes\n",
        "if tag==circle:\n",
        "  print(\"The area of the circle is:\" ,circle)\n",
        "elif  tag == square:\n",
        "  print (\"The area of the side is:\", square)\n",
        "else:\n",
        "  print(\"The area of the rectangle is:\", rectangle)\n"
      ],
      "metadata": {
        "colab": {
          "base_uri": "https://localhost:8080/"
        },
        "id": "7lCsxeCwoGcY",
        "outputId": "9bc278d0-4651-4983-e965-a2f8a846c372"
      },
      "execution_count": null,
      "outputs": [
        {
          "output_type": "stream",
          "name": "stdout",
          "text": [
            "The area of the rectangle is: <function rectangle at 0x7aa4bc1dac20>\n"
          ]
        }
      ]
    }
  ]
}