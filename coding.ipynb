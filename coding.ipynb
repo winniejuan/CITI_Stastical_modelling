{
  "nbformat": 4,
  "nbformat_minor": 0,
  "metadata": {
    "colab": {
      "provenance": [],
      "authorship_tag": "ABX9TyNwSoalMtTPoIgCbnHP/x/w",
      "include_colab_link": true
    },
    "kernelspec": {
      "name": "python3",
      "display_name": "Python 3"
    },
    "language_info": {
      "name": "python"
    }
  },
  "cells": [
    {
      "cell_type": "markdown",
      "metadata": {
        "id": "view-in-github",
        "colab_type": "text"
      },
      "source": [
        "<a href=\"https://colab.research.google.com/github/winniejuan/CITI_Stastical_modelling/blob/main/coding.ipynb\" target=\"_parent\"><img src=\"https://colab.research.google.com/assets/colab-badge.svg\" alt=\"Open In Colab\"/></a>"
      ]
    },
    {
      "cell_type": "code",
      "execution_count": null,
      "metadata": {
        "id": "zdf6H5G4AlpE"
      },
      "outputs": [],
      "source": []
    },
    {
      "cell_type": "markdown",
      "source": [
        "part 3"
      ],
      "metadata": {
        "id": "BpPpRTOiAxdr"
      }
    },
    {
      "cell_type": "code",
      "source": [
        "# string concentration\n",
        "name=\"Alice\"\n",
        "message=\"Hello,\" + name + \"!\"\n",
        "print(message)"
      ],
      "metadata": {
        "colab": {
          "base_uri": "https://localhost:8080/"
        },
        "id": "I07aKobdA1Rp",
        "outputId": "db98ba7b-5124-456e-cf5e-74fcd76caeeb"
      },
      "execution_count": 6,
      "outputs": [
        {
          "output_type": "stream",
          "name": "stdout",
          "text": [
            "Hello,Alice!\n"
          ]
        }
      ]
    },
    {
      "cell_type": "code",
      "source": [
        "# string concentration 2\n",
        "name=\"Alice\"\n",
        "message=\"Hello,\"+name\n",
        "print(message)"
      ],
      "metadata": {
        "colab": {
          "base_uri": "https://localhost:8080/"
        },
        "id": "Rbuli0NoDZ08",
        "outputId": "804b33f0-6a5a-4dc5-c84f-ef06fb147f14"
      },
      "execution_count": 7,
      "outputs": [
        {
          "output_type": "stream",
          "name": "stdout",
          "text": [
            "Hello,Alice\n"
          ]
        }
      ]
    },
    {
      "cell_type": "code",
      "source": [
        "# string slicing\n",
        "text=\"Machine Learning\"\n",
        "substring=text[0:7]\n",
        "print(substring)"
      ],
      "metadata": {
        "colab": {
          "base_uri": "https://localhost:8080/"
        },
        "id": "rsU5rZb6Bc9o",
        "outputId": "f1e336b1-bd80-4609-fc28-4e845a39f020"
      },
      "execution_count": 8,
      "outputs": [
        {
          "output_type": "stream",
          "name": "stdout",
          "text": [
            "Machine\n"
          ]
        }
      ]
    },
    {
      "cell_type": "code",
      "source": [
        "# string slicing 2\n",
        "text=\"Machine Learning\"\n",
        "substring=text[-9:-1]\n",
        "print(substring)"
      ],
      "metadata": {
        "colab": {
          "base_uri": "https://localhost:8080/"
        },
        "id": "-WDt89PvDzYt",
        "outputId": "de21861b-86f8-4f3f-b0f9-52ea3d3c418c"
      },
      "execution_count": 9,
      "outputs": [
        {
          "output_type": "stream",
          "name": "stdout",
          "text": [
            " Learnin\n"
          ]
        }
      ]
    },
    {
      "cell_type": "code",
      "source": [
        "# lists 1\n",
        "fruits=[\"apple\",\"banana\", \"cherry\"]\n",
        "print(fruits[0])"
      ],
      "metadata": {
        "colab": {
          "base_uri": "https://localhost:8080/"
        },
        "id": "XEXwo093Fx5W",
        "outputId": "833048ea-e3fe-4d39-d044-540f067f7ebb"
      },
      "execution_count": 15,
      "outputs": [
        {
          "output_type": "stream",
          "name": "stdout",
          "text": [
            "apple\n"
          ]
        }
      ]
    },
    {
      "cell_type": "code",
      "source": [
        "# modifying\n",
        "fruits=[\"apple\", \"banana\", \"cherry\"]\n",
        "fruits[1]=\"orange\"\n",
        "print (fruits)"
      ],
      "metadata": {
        "colab": {
          "base_uri": "https://localhost:8080/"
        },
        "id": "-BBVifp5Ibjw",
        "outputId": "b1ce5313-d19b-4efd-d2ce-354b5d3e1d11"
      },
      "execution_count": 18,
      "outputs": [
        {
          "output_type": "stream",
          "name": "stdout",
          "text": [
            "['apple', 'orange', 'cherry']\n"
          ]
        }
      ]
    },
    {
      "cell_type": "code",
      "source": [
        "# append from lists\n",
        "fuits=[\"apple\",\"orange\",\"cherry\"]\n",
        "fruits.append(\"grape\")\n",
        "print (fruits)"
      ],
      "metadata": {
        "colab": {
          "base_uri": "https://localhost:8080/"
        },
        "id": "tlChApuIJhww",
        "outputId": "eb5ebeb1-48c4-471d-f833-e7364c18aecf"
      },
      "execution_count": 19,
      "outputs": [
        {
          "output_type": "stream",
          "name": "stdout",
          "text": [
            "['apple', 'orange', 'cherry', 'grape']\n"
          ]
        }
      ]
    },
    {
      "cell_type": "code",
      "source": [
        "#removing from list\n",
        "fruits=[\"apple\", \"orange\", \"cherry\",\"grape\"]\n",
        "fruits.remove(\"apple\")\n",
        "print(fruits)"
      ],
      "metadata": {
        "colab": {
          "base_uri": "https://localhost:8080/"
        },
        "id": "1pRyafANKObm",
        "outputId": "05f448e9-cdac-4f1b-e93b-e16cb938d9f3"
      },
      "execution_count": 20,
      "outputs": [
        {
          "output_type": "stream",
          "name": "stdout",
          "text": [
            "['orange', 'cherry', 'grape']\n"
          ]
        }
      ]
    },
    {
      "cell_type": "code",
      "source": [
        "# tuple\n",
        "person=(\"John\", 25,\"USA\")\n",
        "print(person[0])"
      ],
      "metadata": {
        "colab": {
          "base_uri": "https://localhost:8080/"
        },
        "id": "A_Sn5uxFK21h",
        "outputId": "5c36083b-e28e-496a-e6ea-64d2c687912e"
      },
      "execution_count": 23,
      "outputs": [
        {
          "output_type": "stream",
          "name": "stdout",
          "text": [
            "John\n"
          ]
        }
      ]
    },
    {
      "cell_type": "code",
      "source": [
        "#  dictionary\n",
        "my_dictionary={\"Alex\":23 ,\"Arnold\":30}\n",
        "print(my_dictionary)"
      ],
      "metadata": {
        "colab": {
          "base_uri": "https://localhost:8080/"
        },
        "id": "TkAV7CUbLYUX",
        "outputId": "2fb856b3-8f77-4931-8861-b3f926ab8167"
      },
      "execution_count": 25,
      "outputs": [
        {
          "output_type": "stream",
          "name": "stdout",
          "text": [
            "{'Alex': 23, 'Arnold': 30}\n"
          ]
        }
      ]
    },
    {
      "cell_type": "code",
      "source": [
        "# modifying dictionary\n",
        "my_dictionary={\"alex\":23,\"Arnold\":30}\n",
        "my_dictionary['Arnold']=40\n",
        "print(my_dictionary)"
      ],
      "metadata": {
        "colab": {
          "base_uri": "https://localhost:8080/"
        },
        "id": "ocgxz2NCM2um",
        "outputId": "a999a1bf-9e0e-4a71-e1a0-5f17f57696f0"
      },
      "execution_count": 26,
      "outputs": [
        {
          "output_type": "stream",
          "name": "stdout",
          "text": [
            "{'alex': 23, 'Arnold': 40}\n"
          ]
        }
      ]
    },
    {
      "cell_type": "code",
      "source": [
        "# modifying dictionary\n",
        "my_dictionary={\"Alex\":23,\"Arnold\":40}\n",
        "my_dictionary['Mark']=90\n",
        "print(my_dictionary)"
      ],
      "metadata": {
        "colab": {
          "base_uri": "https://localhost:8080/"
        },
        "id": "W3n1izdkNcYL",
        "outputId": "4d1fe265-d2fa-4718-ebfa-341d3fd4a5b9"
      },
      "execution_count": 27,
      "outputs": [
        {
          "output_type": "stream",
          "name": "stdout",
          "text": [
            "{'Alex': 23, 'Arnold': 40, 'Mark': 90}\n"
          ]
        }
      ]
    },
    {
      "cell_type": "code",
      "source": [
        "# modifying dictionary\n",
        "my_dictionary={\"Alex\":23,\"Arnold\":40, \"Mark\":90}\n",
        "my_dictionary['Arnold']\n",
        "print(my_dictionary)"
      ],
      "metadata": {
        "colab": {
          "base_uri": "https://localhost:8080/"
        },
        "id": "5mCMXAYaOBMS",
        "outputId": "0eb85792-e247-4f50-d8d4-cdf44ed28d3f"
      },
      "execution_count": 28,
      "outputs": [
        {
          "output_type": "stream",
          "name": "stdout",
          "text": [
            "{'Alex': 23, 'Arnold': 40, 'Mark': 90}\n"
          ]
        }
      ]
    },
    {
      "cell_type": "code",
      "source": [
        "# sets adding\n",
        "fruits={\"apple\",\"banana\",\"cherry\"}\n",
        "fruits.add(\"orange\")\n",
        "print(fruits)"
      ],
      "metadata": {
        "colab": {
          "base_uri": "https://localhost:8080/"
        },
        "id": "wszXaCb2Omaa",
        "outputId": "5e4e4175-f32c-4807-cef6-6a1b9b95f53f"
      },
      "execution_count": 30,
      "outputs": [
        {
          "output_type": "stream",
          "name": "stdout",
          "text": [
            "{'banana', 'orange', 'apple', 'cherry'}\n"
          ]
        }
      ]
    },
    {
      "cell_type": "code",
      "source": [
        "# sets removing\n",
        "fruits.remove(\"banana\")\n",
        "print(fruits)"
      ],
      "metadata": {
        "colab": {
          "base_uri": "https://localhost:8080/"
        },
        "outputId": "84cd3376-553a-40b1-86b7-09a144ce179e",
        "id": "h_tvekX4PP7I"
      },
      "execution_count": 31,
      "outputs": [
        {
          "output_type": "stream",
          "name": "stdout",
          "text": [
            "{'orange', 'apple', 'cherry'}\n"
          ]
        }
      ]
    },
    {
      "cell_type": "code",
      "source": [
        "# importing using from\n",
        "from math import pi\n",
        "a=pi\n",
        "print(a)\n"
      ],
      "metadata": {
        "colab": {
          "base_uri": "https://localhost:8080/"
        },
        "id": "X5XtUOfIPf0C",
        "outputId": "a99e6823-79fe-4e9b-9785-741081885cc4"
      },
      "execution_count": 32,
      "outputs": [
        {
          "output_type": "stream",
          "name": "stdout",
          "text": [
            "3.141592653589793\n"
          ]
        }
      ]
    },
    {
      "cell_type": "code",
      "source": [
        "# importing using from\n",
        "from math import *\n",
        "a=pi\n",
        "print(a)\n"
      ],
      "metadata": {
        "colab": {
          "base_uri": "https://localhost:8080/"
        },
        "outputId": "108d02e2-1e71-4d30-8cac-de3707938b31",
        "id": "aprB5eKyQV21"
      },
      "execution_count": 34,
      "outputs": [
        {
          "output_type": "stream",
          "name": "stdout",
          "text": [
            "3.141592653589793\n"
          ]
        }
      ]
    },
    {
      "cell_type": "code",
      "source": [
        "# importing all math using from\n",
        "from math import*\n",
        "b=sqrt(64)\n",
        "print(b)"
      ],
      "metadata": {
        "colab": {
          "base_uri": "https://localhost:8080/"
        },
        "id": "SB3Brqc7P4em",
        "outputId": "213db097-9f69-4a55-dea0-a7237fe370d1"
      },
      "execution_count": 35,
      "outputs": [
        {
          "output_type": "stream",
          "name": "stdout",
          "text": [
            "8.0\n"
          ]
        }
      ]
    }
  ]
}