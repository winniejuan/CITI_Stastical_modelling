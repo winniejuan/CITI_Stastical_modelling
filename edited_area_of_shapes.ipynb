{
  "nbformat": 4,
  "nbformat_minor": 0,
  "metadata": {
    "colab": {
      "provenance": [],
      "authorship_tag": "ABX9TyO5VZnMubdgPm0nEpY69Wud",
      "include_colab_link": true
    },
    "kernelspec": {
      "name": "python3",
      "display_name": "Python 3"
    },
    "language_info": {
      "name": "python"
    }
  },
  "cells": [
    {
      "cell_type": "markdown",
      "metadata": {
        "id": "view-in-github",
        "colab_type": "text"
      },
      "source": [
        "<a href=\"https://colab.research.google.com/github/winniejuan/CITI_Stastical_modelling/blob/main/edited_area_of_shapes.ipynb\" target=\"_parent\"><img src=\"https://colab.research.google.com/assets/colab-badge.svg\" alt=\"Open In Colab\"/></a>"
      ]
    },
    {
      "cell_type": "code",
      "execution_count": 3,
      "metadata": {
        "id": "tuzrK790m4Sj"
      },
      "outputs": [],
      "source": [
        "# showing area of different shapes\n",
        "def circle(radius:float):\n",
        "  return 3.14*radius*radius\n",
        "\n",
        "  result=circle(radius)\n",
        "  print(result)\n",
        "\n",
        "\n"
      ]
    },
    {
      "cell_type": "code",
      "source": [
        "# showing rectangle\n",
        "def rectangle(length:float,width:float):\n",
        "  return length*width\n",
        "\n",
        "  result=rectangle(length,width)\n",
        "  print(result)\n",
        "\n"
      ],
      "metadata": {
        "id": "2egFjDFqodPN"
      },
      "execution_count": 4,
      "outputs": []
    },
    {
      "cell_type": "code",
      "source": [
        "# showing square\n",
        "def square(side:float):\n",
        "  return side*side\n",
        "\n",
        "  result=square(side)\n",
        "  print(result)\n",
        "\n"
      ],
      "metadata": {
        "id": "4k4ob1eGo_SC"
      },
      "execution_count": 19,
      "outputs": []
    },
    {
      "cell_type": "code",
      "source": [
        "# showing area of shapes\n",
        "shape=input(\"enter the shape name\")\n",
        "if shape == \"C\":\n",
        "  radius=float(input(\"enter the radius\"))\n",
        "  area_of_circle=circle(radius)\n",
        "  print(\"The area of the circle is:\" , area_of_circle)\n",
        "if shape==\"R\":\n",
        "  length=float(input(\"enter the length\"))\n",
        "  width=float(input(\"enter the width\"))\n",
        "  area_of_rectangle=rectangle(length,width)\n",
        "  print(\"The area of the rectangle is:\", area_of_rectangle)\n",
        "  if shape ==\"K\":\n",
        "    side=float(input(\"enter the side\"))\n",
        "    area_of_square=square(side)\n",
        "    print(\"The area of the square is:\", area_of_square)\n"
      ],
      "metadata": {
        "id": "7lCsxeCwoGcY",
        "colab": {
          "base_uri": "https://localhost:8080/"
        },
        "outputId": "758493e2-6163-4dfe-ed7e-bfc35affdca6"
      },
      "execution_count": 24,
      "outputs": [
        {
          "name": "stdout",
          "output_type": "stream",
          "text": [
            "enter the shape nameK\n"
          ]
        }
      ]
    }
  ]
}