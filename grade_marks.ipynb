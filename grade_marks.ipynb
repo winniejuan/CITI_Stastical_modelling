{
  "nbformat": 4,
  "nbformat_minor": 0,
  "metadata": {
    "colab": {
      "provenance": [],
      "authorship_tag": "ABX9TyPkXWbqq4WgYcZvr7iYNPjJ",
      "include_colab_link": true
    },
    "kernelspec": {
      "name": "python3",
      "display_name": "Python 3"
    },
    "language_info": {
      "name": "python"
    }
  },
  "cells": [
    {
      "cell_type": "markdown",
      "metadata": {
        "id": "view-in-github",
        "colab_type": "text"
      },
      "source": [
        "<a href=\"https://colab.research.google.com/github/winniejuan/CITI_Stastical_modelling/blob/main/grade_marks.ipynb\" target=\"_parent\"><img src=\"https://colab.research.google.com/assets/colab-badge.svg\" alt=\"Open In Colab\"/></a>"
      ]
    },
    {
      "cell_type": "markdown",
      "source": [
        "grading marks part 1\n"
      ],
      "metadata": {
        "id": "GzH-B0JC8s-F"
      }
    },
    {
      "cell_type": "code",
      "execution_count": 1,
      "metadata": {
        "colab": {
          "base_uri": "https://localhost:8080/"
        },
        "id": "yM_jUik18jr3",
        "outputId": "e9d4b5ed-f9fc-4e45-abd7-925ba975695d"
      },
      "outputs": [
        {
          "name": "stdout",
          "output_type": "stream",
          "text": [
            "enter marks56\n"
          ]
        },
        {
          "output_type": "execute_result",
          "data": {
            "text/plain": [
              "str"
            ]
          },
          "metadata": {},
          "execution_count": 1
        }
      ],
      "source": [
        "#input to a string\n",
        "y=input(\"enter marks\")\n",
        "type (y)\n"
      ]
    },
    {
      "cell_type": "code",
      "source": [
        "#convert string to integer\n",
        "r=int(y)\n",
        "type (r)"
      ],
      "metadata": {
        "colab": {
          "base_uri": "https://localhost:8080/"
        },
        "id": "JBl6898L9NsO",
        "outputId": "203a639f-09a3-4978-9b51-6710e05b29bc"
      },
      "execution_count": 2,
      "outputs": [
        {
          "output_type": "execute_result",
          "data": {
            "text/plain": [
              "int"
            ]
          },
          "metadata": {},
          "execution_count": 2
        }
      ]
    },
    {
      "cell_type": "code",
      "source": [
        "# grading marks\n",
        "grade=input(\"enter marks\")\n",
        "grade=int(grade)\n",
        "if grade>89:\n",
        "  print(\"A\")\n",
        "elif grade>=70 and grade<=89:\n",
        "  print(\"B\")\n",
        "elif grade>=50 and grade<=69:\n",
        "  print(\"C\")\n",
        "elif grade >=49 and grade <=45:\n",
        "  print(\"D\")\n",
        "elif grade >=40 and grade<=40:\n",
        "  print(\"E\")\n",
        "else:\n",
        "  print(\"F\")"
      ],
      "metadata": {
        "colab": {
          "base_uri": "https://localhost:8080/"
        },
        "id": "zvaBxp6u9gF_",
        "outputId": "567bedcc-c1ab-4b03-ef7a-35e21a96d7f0"
      },
      "execution_count": 9,
      "outputs": [
        {
          "output_type": "stream",
          "name": "stdout",
          "text": [
            "enter marks60\n",
            "C\n"
          ]
        }
      ]
    }
  ]
}